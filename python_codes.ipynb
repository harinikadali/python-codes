{
  "cells": [
    {
      "cell_type": "markdown",
      "metadata": {
        "id": "view-in-github",
        "colab_type": "text"
      },
      "source": [
        "<a href=\"https://colab.research.google.com/github/harinikadali/python-codes/blob/main/python_codes.ipynb\" target=\"_parent\"><img src=\"https://colab.research.google.com/assets/colab-badge.svg\" alt=\"Open In Colab\"/></a>"
      ]
    },
    {
      "cell_type": "code",
      "execution_count": null,
      "metadata": {
        "colab": {
          "base_uri": "https://localhost:8080/"
        },
        "id": "REMqgRVBXN2i",
        "outputId": "1c2e869d-45a8-44d2-ec5b-c8c521766525"
      },
      "outputs": [
        {
          "name": "stdout",
          "output_type": "stream",
          "text": [
            "[10, 30, 50]\n"
          ]
        }
      ],
      "source": [
        "L=[10,20,30,40,50]\n",
        "a=L[0:5:2]\n",
        "print(a)"
      ]
    },
    {
      "cell_type": "code",
      "execution_count": null,
      "metadata": {
        "colab": {
          "base_uri": "https://localhost:8080/"
        },
        "id": "UvMUd0_xYQz4",
        "outputId": "dfffa14b-cc8a-4ccc-ebe0-f7b2bf986a35"
      },
      "outputs": [
        {
          "name": "stdout",
          "output_type": "stream",
          "text": [
            "49\n"
          ]
        }
      ],
      "source": [
        "n=7\n",
        "numbersquare=n*n\n",
        "print(numbersquare)"
      ]
    },
    {
      "cell_type": "code",
      "execution_count": null,
      "metadata": {
        "colab": {
          "base_uri": "https://localhost:8080/"
        },
        "id": "LVEXSwOYZbwB",
        "outputId": "33583c0b-0adf-48d7-d557-a4f47e533f93"
      },
      "outputs": [
        {
          "name": "stdout",
          "output_type": "stream",
          "text": [
            "145\n",
            "strong number\n"
          ]
        }
      ],
      "source": [
        "n = int(input())\n",
        "original_n = n\n",
        "sum = 0\n",
        "\n",
        "while n > 0:\n",
        "    digit = n % 10\n",
        "    fact = 1\n",
        "    for i in range(1, digit + 1):\n",
        "        fact *= i\n",
        "    sum += fact\n",
        "    n //= 10\n",
        "\n",
        "if original_n == sum:\n",
        "    print(\"strong number\")\n",
        "else:\n",
        "    print(\"not\")\n"
      ]
    },
    {
      "cell_type": "code",
      "execution_count": 1,
      "metadata": {
        "colab": {
          "base_uri": "https://localhost:8080/"
        },
        "id": "QbJzVcMPDTyN",
        "outputId": "834f891c-aed9-48a1-c067-9e6647497a40"
      },
      "outputs": [
        {
          "output_type": "stream",
          "name": "stdout",
          "text": [
            "2\n"
          ]
        }
      ],
      "source": [
        "a=\"apple\"\n",
        "count=0\n",
        "for i in a:\n",
        "  if i=='p':\n",
        "     count+=1\n",
        "print(count)"
      ]
    },
    {
      "cell_type": "code",
      "execution_count": null,
      "metadata": {
        "colab": {
          "base_uri": "https://localhost:8080/"
        },
        "id": "ns6bfYk4Jp-A",
        "outputId": "fe18f949-e7a0-4cfd-a2a2-bdf558f66560"
      },
      "outputs": [
        {
          "name": "stdout",
          "output_type": "stream",
          "text": [
            "012345678910"
          ]
        }
      ],
      "source": [
        "a=[0,1,2,3,4,5,6,7,8,9,10]\n",
        "for i in a:\n",
        "  print(i,end=\"\")\n"
      ]
    },
    {
      "cell_type": "code",
      "execution_count": null,
      "metadata": {
        "colab": {
          "base_uri": "https://localhost:8080/"
        },
        "id": "zWpkbHlZJDY_",
        "outputId": "28ebe758-7c43-4165-a80f-35620c74c9e3"
      },
      "outputs": [
        {
          "name": "stdout",
          "output_type": "stream",
          "text": [
            "t\n"
          ]
        }
      ],
      "source": [
        "a=\"python\"\n",
        "for i in a:\n",
        "  if i=='t':\n",
        "   print(i)"
      ]
    },
    {
      "cell_type": "code",
      "execution_count": null,
      "metadata": {
        "colab": {
          "base_uri": "https://localhost:8080/"
        },
        "id": "7Gsvev_gK0EQ",
        "outputId": "a2f4799d-e229-4039-8bc1-c2c5bb961902"
      },
      "outputs": [
        {
          "name": "stdout",
          "output_type": "stream",
          "text": [
            "123456\n",
            "123456"
          ]
        }
      ],
      "source": [
        "a=list (map(int,input().split()))\n",
        "for i in a:\n",
        "  print(i,end=\"\")\n"
      ]
    },
    {
      "cell_type": "code",
      "execution_count": null,
      "metadata": {
        "colab": {
          "base_uri": "https://localhost:8080/"
        },
        "id": "YFknGw8NMxqI",
        "outputId": "d99b83ea-11c9-4996-883b-1d66100bdd14"
      },
      "outputs": [
        {
          "name": "stdout",
          "output_type": "stream",
          "text": [
            "1 2 3 4\n",
            "1\n",
            "2\n",
            "3\n",
            "4\n"
          ]
        }
      ],
      "source": [
        "a=list(map(int,input().split()))\n",
        "for i in a:\n",
        "  print(i)\n"
      ]
    },
    {
      "cell_type": "code",
      "execution_count": null,
      "metadata": {
        "colab": {
          "background_save": true,
          "base_uri": "https://localhost:8080/"
        },
        "id": "eAY9CkcYLW9G",
        "outputId": "2a06f8f7-fede-47a8-fce2-a9974e68d68e"
      },
      "outputs": [
        {
          "name": "stdout",
          "output_type": "stream",
          "text": [
            "A\n"
          ]
        }
      ],
      "source": [
        "n=int(input())\n",
        "if (n>=41and n<=45):\n",
        "  print(\"A\")\n",
        "elif(n>36 and n<40):\n",
        "  print(\"B\")\n",
        "elif (n>=31 and n<=35):\n",
        "  print(\"C\")\n",
        "elif (n>=0 and n<=30):\n",
        "  print(\"D\")\n",
        "else:\n",
        "  print(\"invalid input\")"
      ]
    }
  ],
  "metadata": {
    "colab": {
      "provenance": [],
      "authorship_tag": "ABX9TyMT+OAB8uaLBV2OXqot2cnS",
      "include_colab_link": true
    },
    "kernelspec": {
      "display_name": "Python 3",
      "name": "python3"
    },
    "language_info": {
      "name": "python"
    }
  },
  "nbformat": 4,
  "nbformat_minor": 0
}